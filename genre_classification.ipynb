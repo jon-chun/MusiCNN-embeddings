{
  "nbformat": 4,
  "nbformat_minor": 0,
  "metadata": {
    "colab": {
      "name": "genre_classification",
      "provenance": [],
      "collapsed_sections": [],
      "mount_file_id": "1GV7_pm1GZqg6ZLdlfisnIqPVfn0xIDvT",
      "authorship_tag": "ABX9TyNd9DRmBknYGzB36cACmU0+",
      "include_colab_link": true
    },
    "kernelspec": {
      "display_name": "Python 3",
      "name": "python3"
    },
    "accelerator": "GPU"
  },
  "cells": [
    {
      "cell_type": "markdown",
      "metadata": {
        "id": "view-in-github",
        "colab_type": "text"
      },
      "source": [
        "<a href=\"https://colab.research.google.com/github/minguezalba/MusiCNN-embeddings/blob/main/genre_classification.ipynb\" target=\"_parent\"><img src=\"https://colab.research.google.com/assets/colab-badge.svg\" alt=\"Open In Colab\"/></a>"
      ]
    },
    {
      "cell_type": "markdown",
      "metadata": {
        "id": "ozkWIRVwYo8h"
      },
      "source": [
        "# Genre classification\n",
        "---\n",
        "Author: Alba Mínguez Sánchez\n",
        "\n",
        "March 2021\n",
        "\n",
        "---\n",
        "\n",
        "In this notebook, we will train and evaluate a new transfer learning classifier using the embeddings from GTZAN dataset, extracted by Essentia’s MSD-MusiCNN TensorFlow. \n",
        "\n",
        "We will use the audio features (embeddings) as an input to train a shallow target classifier inspired by the ones used in *Alonso-Jiménez, P., Bogdanov, D., & Serra, X. (2020). Deep embeddings with Essentia models*: a multilayer perceptron with a single hidden layer with 100 neurons and ReLU activations. The output layer uses softmax for predictions.\n",
        "\n",
        "To do this task, we will use Pytorch.\n",
        "\n"
      ]
    },
    {
      "cell_type": "markdown",
      "metadata": {
        "id": "T0_tRhNScEjG"
      },
      "source": [
        "**Packages and dependencies**\n"
      ]
    },
    {
      "cell_type": "code",
      "metadata": {
        "id": "JdVsh6Vistxn",
        "colab": {
          "base_uri": "https://localhost:8080/"
        },
        "outputId": "5bc31d86-8dcc-428d-cdb2-fd6ec09298e4"
      },
      "source": [
        "import numpy as np\r\n",
        "import torch\r\n",
        "import plotly.figure_factory as ff\r\n",
        "\r\n",
        "from torch import nn, cuda\r\n",
        "from torch.utils.data import Dataset, DataLoader, SubsetRandomSampler\r\n",
        "from sklearn.metrics import confusion_matrix\r\n",
        "\r\n",
        "# Set fixed random number seed\r\n",
        "torch.manual_seed(42)"
      ],
      "execution_count": 1,
      "outputs": [
        {
          "output_type": "execute_result",
          "data": {
            "text/plain": [
              "<torch._C.Generator at 0x7f82d273c410>"
            ]
          },
          "metadata": {
            "tags": []
          },
          "execution_count": 1
        }
      ]
    },
    {
      "cell_type": "markdown",
      "metadata": {
        "id": "IdI-6NmkMzkQ"
      },
      "source": [
        "**Check if GPU is available**\r\n",
        "\r\n",
        "If you are running this notebook in Colab, you can use Google GPUs free. Go to  Edit > Notebook settings select GPU as Hardware accelerator."
      ]
    },
    {
      "cell_type": "code",
      "metadata": {
        "colab": {
          "base_uri": "https://localhost:8080/"
        },
        "id": "J4SGEQxNMzKP",
        "outputId": "6d3b82cd-b126-4f97-ca67-50dd3e70a675"
      },
      "source": [
        "using_gpu = cuda.is_available()\r\n",
        "using_gpu"
      ],
      "execution_count": 2,
      "outputs": [
        {
          "output_type": "execute_result",
          "data": {
            "text/plain": [
              "True"
            ]
          },
          "metadata": {
            "tags": []
          },
          "execution_count": 2
        }
      ]
    },
    {
      "cell_type": "markdown",
      "metadata": {
        "id": "0Pjeyv2aMGCR"
      },
      "source": [
        "## 1. Loading embeddings dataset from npy files\r\n",
        "\r\n",
        "This step requires to clone MusiCNN-embeddings repository to download the necessary files."
      ]
    },
    {
      "cell_type": "code",
      "metadata": {
        "colab": {
          "base_uri": "https://localhost:8080/"
        },
        "id": "b9BAdhCkMFVg",
        "outputId": "725b7176-2f46-4f16-8a1d-92ae277c6a2b"
      },
      "source": [
        "!git clone https://github.com/minguezalba/MusiCNN-embeddings.git"
      ],
      "execution_count": 3,
      "outputs": [
        {
          "output_type": "stream",
          "text": [
            "fatal: destination path 'MusiCNN-embeddings' already exists and is not an empty directory.\n"
          ],
          "name": "stdout"
        }
      ]
    },
    {
      "cell_type": "code",
      "metadata": {
        "id": "B5eCqNAXMKAT"
      },
      "source": [
        "with open('MusiCNN-embeddings/emb_dataset/embeddings.npy', 'rb') as f:\r\n",
        "    embeddings = np.load(f)\r\n",
        "with open('MusiCNN-embeddings/emb_dataset/labels.npy', 'rb') as f:\r\n",
        "    labels = np.load(f)\r\n",
        "with open('MusiCNN-embeddings/emb_dataset/labels_decoded.npy', 'rb') as f:\r\n",
        "    labels_decoded = np.load(f)\r\n",
        "with open('MusiCNN-embeddings/emb_dataset/track_ids.npy', 'rb') as f:\r\n",
        "    track_ids = np.load(f)\r\n",
        "\r\n",
        "genres = {genre_id: genre for genre_id, genre in zip(labels, labels_decoded)}"
      ],
      "execution_count": 4,
      "outputs": []
    },
    {
      "cell_type": "markdown",
      "metadata": {
        "id": "LD1Zfa4fMMvf"
      },
      "source": [
        "Check data dimensions and types"
      ]
    },
    {
      "cell_type": "code",
      "metadata": {
        "colab": {
          "base_uri": "https://localhost:8080/"
        },
        "id": "clmIsdZFMFXu",
        "outputId": "3d2e5e7e-9eb6-4bc9-a81d-f2dddd0ee922"
      },
      "source": [
        "print('embeddings: ', embeddings.shape, type(embeddings))\r\n",
        "print('labels: ', labels.shape, type(labels))\r\n",
        "print('labels_decoded: ', labels_decoded.shape, type(labels_decoded))\r\n",
        "print('track_ids: ', track_ids.shape, type(track_ids))"
      ],
      "execution_count": 5,
      "outputs": [
        {
          "output_type": "stream",
          "text": [
            "embeddings:  (1000, 200) <class 'numpy.ndarray'>\n",
            "labels:  (1000,) <class 'numpy.ndarray'>\n",
            "labels_decoded:  (1000,) <class 'numpy.ndarray'>\n",
            "track_ids:  (1000,) <class 'numpy.ndarray'>\n"
          ],
          "name": "stdout"
        }
      ]
    },
    {
      "cell_type": "markdown",
      "metadata": {
        "id": "Tp9Ncy-LMFac"
      },
      "source": [
        "# 1. Build custom Pytorch dataset\r\n",
        "\r\n",
        "We will use Pytorch Datasets in order to ease the training and test pipeline. To do this, we will define a custom dataset which inherits from Pytorch Dataset class, and redefine the required methods."
      ]
    },
    {
      "cell_type": "code",
      "metadata": {
        "id": "aCSX_Y06MFc_"
      },
      "source": [
        "class GenreDataset(Dataset):\r\n",
        "  def __init__(self, embeddings, labels):\r\n",
        "    # Initialization\r\n",
        "    self.embeddings = embeddings\r\n",
        "    self.labels = labels\r\n",
        "    \r\n",
        "  def __len__(self):\r\n",
        "    # Denotes the total number of samples\r\n",
        "    return len(self.labels)\r\n",
        "\r\n",
        "  def __getitem__(self, index):\r\n",
        "    # Generates one sample of data\r\n",
        "    X = torch.from_numpy(self.embeddings[index, :].flatten())\r\n",
        "    y = int(self.labels[index])\r\n",
        "\r\n",
        "    return X, y"
      ],
      "execution_count": 6,
      "outputs": []
    },
    {
      "cell_type": "code",
      "metadata": {
        "id": "op7mBCkCOoEc"
      },
      "source": [
        "dataset = GenreDataset(embeddings, labels)"
      ],
      "execution_count": 7,
      "outputs": []
    },
    {
      "cell_type": "markdown",
      "metadata": {
        "id": "IZKOYdwBPOnm"
      },
      "source": [
        "Check a sample from the dataset"
      ]
    },
    {
      "cell_type": "code",
      "metadata": {
        "colab": {
          "base_uri": "https://localhost:8080/"
        },
        "id": "bIBqVu8tOrfR",
        "outputId": "9f1f196a-ba41-4e63-adeb-8e5738bae629"
      },
      "source": [
        "iter_dataset = iter(dataset)\r\n",
        "inputs, labels = next(iter_dataset)\r\n",
        "print('label sample: ', labels)\r\n",
        "print('input sample: ',inputs)"
      ],
      "execution_count": 8,
      "outputs": [
        {
          "output_type": "stream",
          "text": [
            "label sample:  1\n",
            "input sample:  tensor([ -2.2277,  -5.8535,  -4.6969,  -6.3750,  -2.4076,  -6.3240,  15.2210,\n",
            "          0.6533,  -8.8037,  -0.5683,  -8.0114, -12.6820,  -2.4189, -11.3236,\n",
            "         -0.6095,  -2.7762,  -3.4282,   5.6842,  -6.3104, -17.0379, -16.2917,\n",
            "         -9.1156,  -4.7927,  -4.6446,   1.3694,  -7.7527,  -6.6161,  -4.3145,\n",
            "          7.3805,   3.8525,   8.4030,  -9.7115,  -7.4936,   2.9991, -14.2768,\n",
            "        -12.8222,   0.9848,  -6.1617,  -6.8571,  12.2362, -16.0057,  -0.9801,\n",
            "        -18.1293,   8.0538, -11.8202,  -5.4673,  -4.9918,   1.5809, -11.3232,\n",
            "         -8.2023,  -7.0368, -13.2291, -11.1093,  -6.6410,  -9.5571, -11.5630,\n",
            "         -6.8677,  -9.4659, -13.5530,   9.7406,   5.0170, -10.0505,  -8.9705,\n",
            "         -8.3057,  -2.9102, -10.3271,  -5.7909,  -3.0057,  -4.0293,  -1.7750,\n",
            "        -10.2112,  -2.4594,  -5.8352,  -6.5875,   6.0642,  -3.5237,  -4.7459,\n",
            "          4.9358,  -9.3451,  -7.3402,   3.4711, -12.6000,  -0.0244, -10.3699,\n",
            "         -5.2257,  -8.5515,  -6.1494,  13.7422,  -0.6232,  -8.9476, -11.3740,\n",
            "         -1.2731, -13.6516,  -7.9556,  10.5413,  -7.5034,  -2.9193,  -6.3666,\n",
            "         -2.2646, -13.3906,  -6.1777,  -6.2676,  -4.9733,  -1.3849,  -9.9737,\n",
            "         -4.1535,  -2.9109,  -4.9763, -12.5428,  -8.1294,  -8.2557,  -6.8460,\n",
            "         -9.6051,  -4.3223,   7.6056,  -0.2964,  -2.0374,  -0.6029, -14.0458,\n",
            "          0.6834,  -7.1356,  -5.9985,  -5.2049,  -6.3668,   1.4989,  13.5511,\n",
            "          8.1506,  -7.4094,  -0.4168, -11.1358,  -5.7467, -14.0676, -11.7411,\n",
            "         -5.8765,  -4.7963,   5.0723,  -0.1493, -14.7831,  -6.3425,  -2.8969,\n",
            "         11.6445, -12.5834,  -7.9438,  -0.5745, -15.1792,  -2.6844, -10.4423,\n",
            "         -9.0768, -14.7491,  -9.8671,  -0.7984,  -9.4084,  -1.4824,  -2.3158,\n",
            "         -9.4953,  -8.3646,  -9.2976, -12.1096,  -7.8467,  -9.7246,  -8.3625,\n",
            "         -7.7504,  -3.3387,  -6.9676,  -1.3023,  -5.8509,  -6.9501,  -0.0632,\n",
            "        -13.8984,  -5.3143,   3.9922,  -2.1599,   8.0412,  -5.8839, -11.0336,\n",
            "        -11.7228, -10.4117,  -1.6613,   5.5487,  -1.4722,   1.9149,  -8.3846,\n",
            "          2.0472,  -5.6183,  -4.4592,  -9.4947,  -3.2589,  -5.0856,  -3.5978,\n",
            "          9.1726,  -3.2642,  -9.1292,  -8.5325,  -3.6277,  10.3888,  -5.9792,\n",
            "         12.8188,  -3.5274,   1.1402,  -6.0385], dtype=torch.float64)\n"
          ],
          "name": "stdout"
        }
      ]
    },
    {
      "cell_type": "markdown",
      "metadata": {
        "id": "b41CaTCJOlY5"
      },
      "source": [
        "# 2. Build train and test dataloaders\r\n",
        "\r\n",
        "We will randomly split our dataset in two: train (80%) and test (20%) using SubsetRandomSampler and Dataloaders from Pytorch.\r\n",
        "\r\n",
        "In this step, we will also define batch size to train and test model."
      ]
    },
    {
      "cell_type": "code",
      "metadata": {
        "id": "BiUJMqKKMFfQ"
      },
      "source": [
        "BATCH_SIZE = 32\r\n",
        "\r\n",
        "# Split using shuffled indexes\r\n",
        "dataset_indices = list(range(len(dataset)))\r\n",
        "np.random.shuffle(dataset_indices)\r\n",
        "n_test = int(np.floor(0.2 * len(dataset)))\r\n",
        "train_idx, test_idx = dataset_indices[n_test:], dataset_indices[:n_test]\r\n",
        "\r\n",
        "train_sampler = SubsetRandomSampler(train_idx)\r\n",
        "test_sampler = SubsetRandomSampler(test_idx)\r\n",
        "\r\n",
        "# Data Loaders\r\n",
        "train_loader = DataLoader(dataset=dataset, shuffle=False, batch_size=BATCH_SIZE, sampler=train_sampler)\r\n",
        "test_loader = DataLoader(dataset=dataset, shuffle=False, batch_size=BATCH_SIZE, sampler=test_sampler)"
      ],
      "execution_count": 9,
      "outputs": []
    },
    {
      "cell_type": "markdown",
      "metadata": {
        "id": "jkXtDJkBS6uq"
      },
      "source": [
        "# 3. Model definition\r\n",
        "\r\n",
        "We will define a multilayer perceptron (MLP) with a single hidden layer with 100 neurons and ReLU activations. The output layer uses softmax for predictions. We want to use this model to classify a song-embedding out of the 10 possible genres."
      ]
    },
    {
      "cell_type": "code",
      "metadata": {
        "id": "ilvYP7VdMFjt"
      },
      "source": [
        "class MLP(nn.Module):\r\n",
        "  '''\r\n",
        "    Multilayer Perceptron.\r\n",
        "  '''\r\n",
        "  def __init__(self, input_size, hidden_size, output_size):\r\n",
        "    super().__init__()\r\n",
        "    self.input_size = input_size\r\n",
        "    self.hidden_size  = hidden_size\r\n",
        "    self.output_size  = output_size\r\n",
        "\r\n",
        "    net = nn.Sequential(\r\n",
        "      nn.Linear(self.input_size, self.hidden_size),\r\n",
        "      nn.ReLU(),\r\n",
        "      nn.Linear(self.hidden_size, self.output_size)\r\n",
        "    )\r\n",
        "\r\n",
        "    if using_gpu:\r\n",
        "      self.layers = net.cuda()\r\n",
        "    else:\r\n",
        "      self.layers = net\r\n",
        "\r\n",
        "  def forward(self, x):\r\n",
        "    '''Forward pass'''\r\n",
        "    return self.layers(x)"
      ],
      "execution_count": 10,
      "outputs": []
    },
    {
      "cell_type": "code",
      "metadata": {
        "id": "M60x3vN0TLJY"
      },
      "source": [
        "# Initialize the MLP\r\n",
        "mlp = MLP(200, 100, len(genres))"
      ],
      "execution_count": 11,
      "outputs": []
    },
    {
      "cell_type": "markdown",
      "metadata": {
        "id": "nOppSpW8TeuG"
      },
      "source": [
        "We also have to define the loss function and optimizer to use during the training process."
      ]
    },
    {
      "cell_type": "code",
      "metadata": {
        "id": "LfBBXyPHTeL0"
      },
      "source": [
        "loss_function = nn.CrossEntropyLoss()\r\n",
        "optimizer = torch.optim.Adam(mlp.parameters(), lr=1e-3)"
      ],
      "execution_count": 12,
      "outputs": []
    },
    {
      "cell_type": "markdown",
      "metadata": {
        "id": "dwsCciNhT8KM"
      },
      "source": [
        "# 4. Training the model"
      ]
    },
    {
      "cell_type": "code",
      "metadata": {
        "colab": {
          "base_uri": "https://localhost:8080/"
        },
        "id": "FfAUNMfRSKEE",
        "outputId": "72f5f38c-e989-45d0-ab9b-3088bf951993"
      },
      "source": [
        "N_epochs = 30\r\n",
        "mlp.train()\r\n",
        "\r\n",
        "for epoch in range(0, N_epochs):\r\n",
        "  train_loss = 0.0    # Set current loss value\r\n",
        "\r\n",
        "  for i, data in enumerate(train_loader):    \r\n",
        "    inputs, targets = data\r\n",
        "    if using_gpu:\r\n",
        "      inputs, targets = inputs.cuda(), targets.cuda()\r\n",
        "\r\n",
        "    optimizer.zero_grad()    \r\n",
        "    outputs = mlp(inputs.float())    \r\n",
        "    loss = loss_function(outputs, targets.long())\r\n",
        "    loss.backward()\r\n",
        "    optimizer.step()    \r\n",
        "    train_loss += loss.item()\r\n",
        "  \r\n",
        "  if epoch%5==4:\r\n",
        "    print(f'Epoch {epoch+1} - Training Loss: {train_loss}')    \r\n",
        "\r\n",
        "print('Training process has finished.')"
      ],
      "execution_count": 13,
      "outputs": [
        {
          "output_type": "stream",
          "text": [
            "Epoch 5 - Training Loss: 4.343503199517727\n",
            "Epoch 10 - Training Loss: 2.5762134827673435\n",
            "Epoch 15 - Training Loss: 2.0671953565906733\n",
            "Epoch 20 - Training Loss: 1.5897746346890926\n",
            "Epoch 25 - Training Loss: 0.6176864518783987\n",
            "Epoch 30 - Training Loss: 0.9679376269923523\n",
            "Training process has finished.\n"
          ],
          "name": "stdout"
        }
      ]
    },
    {
      "cell_type": "markdown",
      "metadata": {
        "id": "eRQB6lCUUACZ"
      },
      "source": [
        "# 5. Testing the model"
      ]
    },
    {
      "cell_type": "code",
      "metadata": {
        "colab": {
          "base_uri": "https://localhost:8080/"
        },
        "id": "7dHfjqEert_E",
        "outputId": "57fb8d9b-bcca-4d48-a1e5-5a8e98a2cfcf"
      },
      "source": [
        "class_correct = list(0. for i in range(10))\r\n",
        "class_total = list(0. for i in range(10))\r\n",
        "correct = 0\r\n",
        "total = 0\r\n",
        "\r\n",
        "y_test = []\r\n",
        "y_test_predicted = []\r\n",
        "\r\n",
        "mlp.eval()\r\n",
        "for data in test_loader:    \r\n",
        "    inputs, targets = data\r\n",
        "    if using_gpu:\r\n",
        "      inputs, targets = inputs.cuda(), targets.cuda()\r\n",
        "\r\n",
        "    outputs = mlp(inputs.float())   \r\n",
        "    _, predicted = torch.max(outputs, 1)\r\n",
        "\r\n",
        "    y_test.extend(list(targets.cpu().numpy()))\r\n",
        "    y_test_predicted.extend(list(predicted.cpu().numpy()))\r\n",
        "\r\n",
        "    total += targets.size(0)\r\n",
        "    correct += (predicted == targets).sum().item()\r\n",
        "\r\n",
        "    c = (predicted == targets).squeeze()\r\n",
        "    for i in range(len(targets)):\r\n",
        "      label = targets[i]\r\n",
        "      class_correct[label] += c[i].item()\r\n",
        "      class_total[label] += 1\r\n",
        "\r\n",
        "print('Test process has finished.')"
      ],
      "execution_count": 14,
      "outputs": [
        {
          "output_type": "stream",
          "text": [
            "Test process has finished.\n"
          ],
          "name": "stdout"
        }
      ]
    },
    {
      "cell_type": "markdown",
      "metadata": {
        "id": "aT0CEjMNZScF"
      },
      "source": [
        "# 6. Evaluate the results"
      ]
    },
    {
      "cell_type": "markdown",
      "metadata": {
        "id": "xbaHTZ0cdaBh"
      },
      "source": [
        "Decode labels from numerical to categorical values."
      ]
    },
    {
      "cell_type": "code",
      "metadata": {
        "id": "EIcp8nJ3dQZ4"
      },
      "source": [
        "labels_test = np.array([genres[v] for v in y_test])\r\n",
        "labels_test_predicted = np.array([genres[v] for v in y_test_predicted])"
      ],
      "execution_count": 15,
      "outputs": []
    },
    {
      "cell_type": "markdown",
      "metadata": {
        "id": "R80KOl7Id6Sd"
      },
      "source": [
        "Build confusion matrix"
      ]
    },
    {
      "cell_type": "code",
      "metadata": {
        "colab": {
          "base_uri": "https://localhost:8080/",
          "height": 542
        },
        "id": "90gqzXqKd9T2",
        "outputId": "86cf4acb-5146-409a-9a1e-464539d2cdf0"
      },
      "source": [
        "genres_set = list(genres.values())\r\n",
        "\r\n",
        "cm = confusion_matrix(labels_test, labels_test_predicted, labels=genres_set)\r\n",
        "cm_text = [[str(y) for y in x] for x in cm]\r\n",
        "\r\n",
        "# set up figure \r\n",
        "fig = ff.create_annotated_heatmap(cm, x=genres_set, y=genres_set, annotation_text=cm_text, colorscale='Blues')\r\n",
        "fig.update_layout(title_text='<i><b>Confusion matrix</b></i>')\r\n",
        "fig.update_layout(margin=dict(t=100, l=200, r=200),\r\n",
        "                  xaxis = dict(title='Predicted genre'),\r\n",
        "                  yaxis = dict(title='Real genre'))\r\n",
        "\r\n",
        "\r\n",
        "#fig['layout']['xaxis']['autorange'] = \"reversed\"\r\n",
        "fig['data'][0]['showscale'] = True  # add colorbar\r\n",
        "fig.show()"
      ],
      "execution_count": 16,
      "outputs": [
        {
          "output_type": "display_data",
          "data": {
            "text/html": [
              "<html>\n",
              "<head><meta charset=\"utf-8\" /></head>\n",
              "<body>\n",
              "    <div>\n",
              "            <script src=\"https://cdnjs.cloudflare.com/ajax/libs/mathjax/2.7.5/MathJax.js?config=TeX-AMS-MML_SVG\"></script><script type=\"text/javascript\">if (window.MathJax) {MathJax.Hub.Config({SVG: {font: \"STIX-Web\"}});}</script>\n",
              "                <script type=\"text/javascript\">window.PlotlyConfig = {MathJaxConfig: 'local'};</script>\n",
              "        <script src=\"https://cdn.plot.ly/plotly-latest.min.js\"></script>    \n",
              "            <div id=\"3f72e6f4-8ec1-4702-9527-a7094b4e90f1\" class=\"plotly-graph-div\" style=\"height:525px; width:100%;\"></div>\n",
              "            <script type=\"text/javascript\">\n",
              "                \n",
              "                    window.PLOTLYENV=window.PLOTLYENV || {};\n",
              "                    \n",
              "                if (document.getElementById(\"3f72e6f4-8ec1-4702-9527-a7094b4e90f1\")) {\n",
              "                    Plotly.newPlot(\n",
              "                        '3f72e6f4-8ec1-4702-9527-a7094b4e90f1',\n",
              "                        [{\"colorscale\": [[0.0, \"rgb(247,251,255)\"], [0.125, \"rgb(222,235,247)\"], [0.25, \"rgb(198,219,239)\"], [0.375, \"rgb(158,202,225)\"], [0.5, \"rgb(107,174,214)\"], [0.625, \"rgb(66,146,198)\"], [0.75, \"rgb(33,113,181)\"], [0.875, \"rgb(8,81,156)\"], [1.0, \"rgb(8,48,107)\"]], \"reversescale\": false, \"showscale\": true, \"type\": \"heatmap\", \"x\": [\"classical\", \"country\", \"disco\", \"hip-hop\", \"jazz\", \"rock\", \"blues\", \"reggae\", \"pop\", \"metal\"], \"y\": [\"classical\", \"country\", \"disco\", \"hip-hop\", \"jazz\", \"rock\", \"blues\", \"reggae\", \"pop\", \"metal\"], \"z\": [[17, 0, 0, 0, 1, 0, 0, 0, 0, 0], [0, 16, 1, 0, 0, 0, 1, 0, 0, 0], [0, 0, 16, 0, 0, 1, 0, 0, 1, 0], [0, 0, 0, 29, 0, 0, 0, 0, 0, 0], [0, 0, 0, 0, 23, 0, 0, 0, 0, 0], [0, 1, 0, 0, 0, 14, 0, 0, 0, 0], [0, 0, 0, 0, 0, 0, 24, 0, 0, 0], [0, 0, 0, 0, 0, 0, 1, 12, 0, 0], [0, 0, 0, 2, 0, 0, 0, 0, 17, 0], [0, 0, 0, 0, 0, 2, 0, 0, 0, 21]]}],\n",
              "                        {\"annotations\": [{\"font\": {\"color\": \"#FFFFFF\"}, \"showarrow\": false, \"text\": \"17\", \"x\": \"classical\", \"xref\": \"x\", \"y\": \"classical\", \"yref\": \"y\"}, {\"font\": {\"color\": \"#000000\"}, \"showarrow\": false, \"text\": \"0\", \"x\": \"country\", \"xref\": \"x\", \"y\": \"classical\", \"yref\": \"y\"}, {\"font\": {\"color\": \"#000000\"}, \"showarrow\": false, \"text\": \"0\", \"x\": \"disco\", \"xref\": \"x\", \"y\": \"classical\", \"yref\": \"y\"}, {\"font\": {\"color\": \"#000000\"}, \"showarrow\": false, \"text\": \"0\", \"x\": \"hip-hop\", \"xref\": \"x\", \"y\": \"classical\", \"yref\": \"y\"}, {\"font\": {\"color\": \"#000000\"}, \"showarrow\": false, \"text\": \"1\", \"x\": \"jazz\", \"xref\": \"x\", \"y\": \"classical\", \"yref\": \"y\"}, {\"font\": {\"color\": \"#000000\"}, \"showarrow\": false, \"text\": \"0\", \"x\": \"rock\", \"xref\": \"x\", \"y\": \"classical\", \"yref\": \"y\"}, {\"font\": {\"color\": \"#000000\"}, \"showarrow\": false, \"text\": \"0\", \"x\": \"blues\", \"xref\": \"x\", \"y\": \"classical\", \"yref\": \"y\"}, {\"font\": {\"color\": \"#000000\"}, \"showarrow\": false, \"text\": \"0\", \"x\": \"reggae\", \"xref\": \"x\", \"y\": \"classical\", \"yref\": \"y\"}, {\"font\": {\"color\": \"#000000\"}, \"showarrow\": false, \"text\": \"0\", \"x\": \"pop\", \"xref\": \"x\", \"y\": \"classical\", \"yref\": \"y\"}, {\"font\": {\"color\": \"#000000\"}, \"showarrow\": false, \"text\": \"0\", \"x\": \"metal\", \"xref\": \"x\", \"y\": \"classical\", \"yref\": \"y\"}, {\"font\": {\"color\": \"#000000\"}, \"showarrow\": false, \"text\": \"0\", \"x\": \"classical\", \"xref\": \"x\", \"y\": \"country\", \"yref\": \"y\"}, {\"font\": {\"color\": \"#FFFFFF\"}, \"showarrow\": false, \"text\": \"16\", \"x\": \"country\", \"xref\": \"x\", \"y\": \"country\", \"yref\": \"y\"}, {\"font\": {\"color\": \"#000000\"}, \"showarrow\": false, \"text\": \"1\", \"x\": \"disco\", \"xref\": \"x\", \"y\": \"country\", \"yref\": \"y\"}, {\"font\": {\"color\": \"#000000\"}, \"showarrow\": false, \"text\": \"0\", \"x\": \"hip-hop\", \"xref\": \"x\", \"y\": \"country\", \"yref\": \"y\"}, {\"font\": {\"color\": \"#000000\"}, \"showarrow\": false, \"text\": \"0\", \"x\": \"jazz\", \"xref\": \"x\", \"y\": \"country\", \"yref\": \"y\"}, {\"font\": {\"color\": \"#000000\"}, \"showarrow\": false, \"text\": \"0\", \"x\": \"rock\", \"xref\": \"x\", \"y\": \"country\", \"yref\": \"y\"}, {\"font\": {\"color\": \"#000000\"}, \"showarrow\": false, \"text\": \"1\", \"x\": \"blues\", \"xref\": \"x\", \"y\": \"country\", \"yref\": \"y\"}, {\"font\": {\"color\": \"#000000\"}, \"showarrow\": false, \"text\": \"0\", \"x\": \"reggae\", \"xref\": \"x\", \"y\": \"country\", \"yref\": \"y\"}, {\"font\": {\"color\": \"#000000\"}, \"showarrow\": false, \"text\": \"0\", \"x\": \"pop\", \"xref\": \"x\", \"y\": \"country\", \"yref\": \"y\"}, {\"font\": {\"color\": \"#000000\"}, \"showarrow\": false, \"text\": \"0\", \"x\": \"metal\", \"xref\": \"x\", \"y\": \"country\", \"yref\": \"y\"}, {\"font\": {\"color\": \"#000000\"}, \"showarrow\": false, \"text\": \"0\", \"x\": \"classical\", \"xref\": \"x\", \"y\": \"disco\", \"yref\": \"y\"}, {\"font\": {\"color\": \"#000000\"}, \"showarrow\": false, \"text\": \"0\", \"x\": \"country\", \"xref\": \"x\", \"y\": \"disco\", \"yref\": \"y\"}, {\"font\": {\"color\": \"#FFFFFF\"}, \"showarrow\": false, \"text\": \"16\", \"x\": \"disco\", \"xref\": \"x\", \"y\": \"disco\", \"yref\": \"y\"}, {\"font\": {\"color\": \"#000000\"}, \"showarrow\": false, \"text\": \"0\", \"x\": \"hip-hop\", \"xref\": \"x\", \"y\": \"disco\", \"yref\": \"y\"}, {\"font\": {\"color\": \"#000000\"}, \"showarrow\": false, \"text\": \"0\", \"x\": \"jazz\", \"xref\": \"x\", \"y\": \"disco\", \"yref\": \"y\"}, {\"font\": {\"color\": \"#000000\"}, \"showarrow\": false, \"text\": \"1\", \"x\": \"rock\", \"xref\": \"x\", \"y\": \"disco\", \"yref\": \"y\"}, {\"font\": {\"color\": \"#000000\"}, \"showarrow\": false, \"text\": \"0\", \"x\": \"blues\", \"xref\": \"x\", \"y\": \"disco\", \"yref\": \"y\"}, {\"font\": {\"color\": \"#000000\"}, \"showarrow\": false, \"text\": \"0\", \"x\": \"reggae\", \"xref\": \"x\", \"y\": \"disco\", \"yref\": \"y\"}, {\"font\": {\"color\": \"#000000\"}, \"showarrow\": false, \"text\": \"1\", \"x\": \"pop\", \"xref\": \"x\", \"y\": \"disco\", \"yref\": \"y\"}, {\"font\": {\"color\": \"#000000\"}, \"showarrow\": false, \"text\": \"0\", \"x\": \"metal\", \"xref\": \"x\", \"y\": \"disco\", \"yref\": \"y\"}, {\"font\": {\"color\": \"#000000\"}, \"showarrow\": false, \"text\": \"0\", \"x\": \"classical\", \"xref\": \"x\", \"y\": \"hip-hop\", \"yref\": \"y\"}, {\"font\": {\"color\": \"#000000\"}, \"showarrow\": false, \"text\": \"0\", \"x\": \"country\", \"xref\": \"x\", \"y\": \"hip-hop\", \"yref\": \"y\"}, {\"font\": {\"color\": \"#000000\"}, \"showarrow\": false, \"text\": \"0\", \"x\": \"disco\", \"xref\": \"x\", \"y\": \"hip-hop\", \"yref\": \"y\"}, {\"font\": {\"color\": \"#FFFFFF\"}, \"showarrow\": false, \"text\": \"29\", \"x\": \"hip-hop\", \"xref\": \"x\", \"y\": \"hip-hop\", \"yref\": \"y\"}, {\"font\": {\"color\": \"#000000\"}, \"showarrow\": false, \"text\": \"0\", \"x\": \"jazz\", \"xref\": \"x\", \"y\": \"hip-hop\", \"yref\": \"y\"}, {\"font\": {\"color\": \"#000000\"}, \"showarrow\": false, \"text\": \"0\", \"x\": \"rock\", \"xref\": \"x\", \"y\": \"hip-hop\", \"yref\": \"y\"}, {\"font\": {\"color\": \"#000000\"}, \"showarrow\": false, \"text\": \"0\", \"x\": \"blues\", \"xref\": \"x\", \"y\": \"hip-hop\", \"yref\": \"y\"}, {\"font\": {\"color\": \"#000000\"}, \"showarrow\": false, \"text\": \"0\", \"x\": \"reggae\", \"xref\": \"x\", \"y\": \"hip-hop\", \"yref\": \"y\"}, {\"font\": {\"color\": \"#000000\"}, \"showarrow\": false, \"text\": \"0\", \"x\": \"pop\", \"xref\": \"x\", \"y\": \"hip-hop\", \"yref\": \"y\"}, {\"font\": {\"color\": \"#000000\"}, \"showarrow\": false, \"text\": \"0\", \"x\": \"metal\", \"xref\": \"x\", \"y\": \"hip-hop\", \"yref\": \"y\"}, {\"font\": {\"color\": \"#000000\"}, \"showarrow\": false, \"text\": \"0\", \"x\": \"classical\", \"xref\": \"x\", \"y\": \"jazz\", \"yref\": \"y\"}, {\"font\": {\"color\": \"#000000\"}, \"showarrow\": false, \"text\": \"0\", \"x\": \"country\", \"xref\": \"x\", \"y\": \"jazz\", \"yref\": \"y\"}, {\"font\": {\"color\": \"#000000\"}, \"showarrow\": false, \"text\": \"0\", \"x\": \"disco\", \"xref\": \"x\", \"y\": \"jazz\", \"yref\": \"y\"}, {\"font\": {\"color\": \"#000000\"}, \"showarrow\": false, \"text\": \"0\", \"x\": \"hip-hop\", \"xref\": \"x\", \"y\": \"jazz\", \"yref\": \"y\"}, {\"font\": {\"color\": \"#FFFFFF\"}, \"showarrow\": false, \"text\": \"23\", \"x\": \"jazz\", \"xref\": \"x\", \"y\": \"jazz\", \"yref\": \"y\"}, {\"font\": {\"color\": \"#000000\"}, \"showarrow\": false, \"text\": \"0\", \"x\": \"rock\", \"xref\": \"x\", \"y\": \"jazz\", \"yref\": \"y\"}, {\"font\": {\"color\": \"#000000\"}, \"showarrow\": false, \"text\": \"0\", \"x\": \"blues\", \"xref\": \"x\", \"y\": \"jazz\", \"yref\": \"y\"}, {\"font\": {\"color\": \"#000000\"}, \"showarrow\": false, \"text\": \"0\", \"x\": \"reggae\", \"xref\": \"x\", \"y\": \"jazz\", \"yref\": \"y\"}, {\"font\": {\"color\": \"#000000\"}, \"showarrow\": false, \"text\": \"0\", \"x\": \"pop\", \"xref\": \"x\", \"y\": \"jazz\", \"yref\": \"y\"}, {\"font\": {\"color\": \"#000000\"}, \"showarrow\": false, \"text\": \"0\", \"x\": \"metal\", \"xref\": \"x\", \"y\": \"jazz\", \"yref\": \"y\"}, {\"font\": {\"color\": \"#000000\"}, \"showarrow\": false, \"text\": \"0\", \"x\": \"classical\", \"xref\": \"x\", \"y\": \"rock\", \"yref\": \"y\"}, {\"font\": {\"color\": \"#000000\"}, \"showarrow\": false, \"text\": \"1\", \"x\": \"country\", \"xref\": \"x\", \"y\": \"rock\", \"yref\": \"y\"}, {\"font\": {\"color\": \"#000000\"}, \"showarrow\": false, \"text\": \"0\", \"x\": \"disco\", \"xref\": \"x\", \"y\": \"rock\", \"yref\": \"y\"}, {\"font\": {\"color\": \"#000000\"}, \"showarrow\": false, \"text\": \"0\", \"x\": \"hip-hop\", \"xref\": \"x\", \"y\": \"rock\", \"yref\": \"y\"}, {\"font\": {\"color\": \"#000000\"}, \"showarrow\": false, \"text\": \"0\", \"x\": \"jazz\", \"xref\": \"x\", \"y\": \"rock\", \"yref\": \"y\"}, {\"font\": {\"color\": \"#000000\"}, \"showarrow\": false, \"text\": \"14\", \"x\": \"rock\", \"xref\": \"x\", \"y\": \"rock\", \"yref\": \"y\"}, {\"font\": {\"color\": \"#000000\"}, \"showarrow\": false, \"text\": \"0\", \"x\": \"blues\", \"xref\": \"x\", \"y\": \"rock\", \"yref\": \"y\"}, {\"font\": {\"color\": \"#000000\"}, \"showarrow\": false, \"text\": \"0\", \"x\": \"reggae\", \"xref\": \"x\", \"y\": \"rock\", \"yref\": \"y\"}, {\"font\": {\"color\": \"#000000\"}, \"showarrow\": false, \"text\": \"0\", \"x\": \"pop\", \"xref\": \"x\", \"y\": \"rock\", \"yref\": \"y\"}, {\"font\": {\"color\": \"#000000\"}, \"showarrow\": false, \"text\": \"0\", \"x\": \"metal\", \"xref\": \"x\", \"y\": \"rock\", \"yref\": \"y\"}, {\"font\": {\"color\": \"#000000\"}, \"showarrow\": false, \"text\": \"0\", \"x\": \"classical\", \"xref\": \"x\", \"y\": \"blues\", \"yref\": \"y\"}, {\"font\": {\"color\": \"#000000\"}, \"showarrow\": false, \"text\": \"0\", \"x\": \"country\", \"xref\": \"x\", \"y\": \"blues\", \"yref\": \"y\"}, {\"font\": {\"color\": \"#000000\"}, \"showarrow\": false, \"text\": \"0\", \"x\": \"disco\", \"xref\": \"x\", \"y\": \"blues\", \"yref\": \"y\"}, {\"font\": {\"color\": \"#000000\"}, \"showarrow\": false, \"text\": \"0\", \"x\": \"hip-hop\", \"xref\": \"x\", \"y\": \"blues\", \"yref\": \"y\"}, {\"font\": {\"color\": \"#000000\"}, \"showarrow\": false, \"text\": \"0\", \"x\": \"jazz\", \"xref\": \"x\", \"y\": \"blues\", \"yref\": \"y\"}, {\"font\": {\"color\": \"#000000\"}, \"showarrow\": false, \"text\": \"0\", \"x\": \"rock\", \"xref\": \"x\", \"y\": \"blues\", \"yref\": \"y\"}, {\"font\": {\"color\": \"#FFFFFF\"}, \"showarrow\": false, \"text\": \"24\", \"x\": \"blues\", \"xref\": \"x\", \"y\": \"blues\", \"yref\": \"y\"}, {\"font\": {\"color\": \"#000000\"}, \"showarrow\": false, \"text\": \"0\", \"x\": \"reggae\", \"xref\": \"x\", \"y\": \"blues\", \"yref\": \"y\"}, {\"font\": {\"color\": \"#000000\"}, \"showarrow\": false, \"text\": \"0\", \"x\": \"pop\", \"xref\": \"x\", \"y\": \"blues\", \"yref\": \"y\"}, {\"font\": {\"color\": \"#000000\"}, \"showarrow\": false, \"text\": \"0\", \"x\": \"metal\", \"xref\": \"x\", \"y\": \"blues\", \"yref\": \"y\"}, {\"font\": {\"color\": \"#000000\"}, \"showarrow\": false, \"text\": \"0\", \"x\": \"classical\", \"xref\": \"x\", \"y\": \"reggae\", \"yref\": \"y\"}, {\"font\": {\"color\": \"#000000\"}, \"showarrow\": false, \"text\": \"0\", \"x\": \"country\", \"xref\": \"x\", \"y\": \"reggae\", \"yref\": \"y\"}, {\"font\": {\"color\": \"#000000\"}, \"showarrow\": false, \"text\": \"0\", \"x\": \"disco\", \"xref\": \"x\", \"y\": \"reggae\", \"yref\": \"y\"}, {\"font\": {\"color\": \"#000000\"}, \"showarrow\": false, \"text\": \"0\", \"x\": \"hip-hop\", \"xref\": \"x\", \"y\": \"reggae\", \"yref\": \"y\"}, {\"font\": {\"color\": \"#000000\"}, \"showarrow\": false, \"text\": \"0\", \"x\": \"jazz\", \"xref\": \"x\", \"y\": \"reggae\", \"yref\": \"y\"}, {\"font\": {\"color\": \"#000000\"}, \"showarrow\": false, \"text\": \"0\", \"x\": \"rock\", \"xref\": \"x\", \"y\": \"reggae\", \"yref\": \"y\"}, {\"font\": {\"color\": \"#000000\"}, \"showarrow\": false, \"text\": \"1\", \"x\": \"blues\", \"xref\": \"x\", \"y\": \"reggae\", \"yref\": \"y\"}, {\"font\": {\"color\": \"#000000\"}, \"showarrow\": false, \"text\": \"12\", \"x\": \"reggae\", \"xref\": \"x\", \"y\": \"reggae\", \"yref\": \"y\"}, {\"font\": {\"color\": \"#000000\"}, \"showarrow\": false, \"text\": \"0\", \"x\": \"pop\", \"xref\": \"x\", \"y\": \"reggae\", \"yref\": \"y\"}, {\"font\": {\"color\": \"#000000\"}, \"showarrow\": false, \"text\": \"0\", \"x\": \"metal\", \"xref\": \"x\", \"y\": \"reggae\", \"yref\": \"y\"}, {\"font\": {\"color\": \"#000000\"}, \"showarrow\": false, \"text\": \"0\", \"x\": \"classical\", \"xref\": \"x\", \"y\": \"pop\", \"yref\": \"y\"}, {\"font\": {\"color\": \"#000000\"}, \"showarrow\": false, \"text\": \"0\", \"x\": \"country\", \"xref\": \"x\", \"y\": \"pop\", \"yref\": \"y\"}, {\"font\": {\"color\": \"#000000\"}, \"showarrow\": false, \"text\": \"0\", \"x\": \"disco\", \"xref\": \"x\", \"y\": \"pop\", \"yref\": \"y\"}, {\"font\": {\"color\": \"#000000\"}, \"showarrow\": false, \"text\": \"2\", \"x\": \"hip-hop\", \"xref\": \"x\", \"y\": \"pop\", \"yref\": \"y\"}, {\"font\": {\"color\": \"#000000\"}, \"showarrow\": false, \"text\": \"0\", \"x\": \"jazz\", \"xref\": \"x\", \"y\": \"pop\", \"yref\": \"y\"}, {\"font\": {\"color\": \"#000000\"}, \"showarrow\": false, \"text\": \"0\", \"x\": \"rock\", \"xref\": \"x\", \"y\": \"pop\", \"yref\": \"y\"}, {\"font\": {\"color\": \"#000000\"}, \"showarrow\": false, \"text\": \"0\", \"x\": \"blues\", \"xref\": \"x\", \"y\": \"pop\", \"yref\": \"y\"}, {\"font\": {\"color\": \"#000000\"}, \"showarrow\": false, \"text\": \"0\", \"x\": \"reggae\", \"xref\": \"x\", \"y\": \"pop\", \"yref\": \"y\"}, {\"font\": {\"color\": \"#FFFFFF\"}, \"showarrow\": false, \"text\": \"17\", \"x\": \"pop\", \"xref\": \"x\", \"y\": \"pop\", \"yref\": \"y\"}, {\"font\": {\"color\": \"#000000\"}, \"showarrow\": false, \"text\": \"0\", \"x\": \"metal\", \"xref\": \"x\", \"y\": \"pop\", \"yref\": \"y\"}, {\"font\": {\"color\": \"#000000\"}, \"showarrow\": false, \"text\": \"0\", \"x\": \"classical\", \"xref\": \"x\", \"y\": \"metal\", \"yref\": \"y\"}, {\"font\": {\"color\": \"#000000\"}, \"showarrow\": false, \"text\": \"0\", \"x\": \"country\", \"xref\": \"x\", \"y\": \"metal\", \"yref\": \"y\"}, {\"font\": {\"color\": \"#000000\"}, \"showarrow\": false, \"text\": \"0\", \"x\": \"disco\", \"xref\": \"x\", \"y\": \"metal\", \"yref\": \"y\"}, {\"font\": {\"color\": \"#000000\"}, \"showarrow\": false, \"text\": \"0\", \"x\": \"hip-hop\", \"xref\": \"x\", \"y\": \"metal\", \"yref\": \"y\"}, {\"font\": {\"color\": \"#000000\"}, \"showarrow\": false, \"text\": \"0\", \"x\": \"jazz\", \"xref\": \"x\", \"y\": \"metal\", \"yref\": \"y\"}, {\"font\": {\"color\": \"#000000\"}, \"showarrow\": false, \"text\": \"2\", \"x\": \"rock\", \"xref\": \"x\", \"y\": \"metal\", \"yref\": \"y\"}, {\"font\": {\"color\": \"#000000\"}, \"showarrow\": false, \"text\": \"0\", \"x\": \"blues\", \"xref\": \"x\", \"y\": \"metal\", \"yref\": \"y\"}, {\"font\": {\"color\": \"#000000\"}, \"showarrow\": false, \"text\": \"0\", \"x\": \"reggae\", \"xref\": \"x\", \"y\": \"metal\", \"yref\": \"y\"}, {\"font\": {\"color\": \"#000000\"}, \"showarrow\": false, \"text\": \"0\", \"x\": \"pop\", \"xref\": \"x\", \"y\": \"metal\", \"yref\": \"y\"}, {\"font\": {\"color\": \"#FFFFFF\"}, \"showarrow\": false, \"text\": \"21\", \"x\": \"metal\", \"xref\": \"x\", \"y\": \"metal\", \"yref\": \"y\"}], \"margin\": {\"l\": 200, \"r\": 200, \"t\": 100}, \"template\": {\"data\": {\"bar\": [{\"error_x\": {\"color\": \"#2a3f5f\"}, \"error_y\": {\"color\": \"#2a3f5f\"}, \"marker\": {\"line\": {\"color\": \"#E5ECF6\", \"width\": 0.5}}, \"type\": \"bar\"}], \"barpolar\": [{\"marker\": {\"line\": {\"color\": \"#E5ECF6\", \"width\": 0.5}}, \"type\": \"barpolar\"}], \"carpet\": [{\"aaxis\": {\"endlinecolor\": \"#2a3f5f\", \"gridcolor\": \"white\", \"linecolor\": \"white\", \"minorgridcolor\": \"white\", \"startlinecolor\": \"#2a3f5f\"}, \"baxis\": {\"endlinecolor\": \"#2a3f5f\", \"gridcolor\": \"white\", \"linecolor\": \"white\", \"minorgridcolor\": \"white\", \"startlinecolor\": \"#2a3f5f\"}, \"type\": \"carpet\"}], \"choropleth\": [{\"colorbar\": {\"outlinewidth\": 0, \"ticks\": \"\"}, \"type\": \"choropleth\"}], \"contour\": [{\"colorbar\": {\"outlinewidth\": 0, \"ticks\": \"\"}, \"colorscale\": [[0.0, \"#0d0887\"], [0.1111111111111111, \"#46039f\"], [0.2222222222222222, \"#7201a8\"], [0.3333333333333333, \"#9c179e\"], [0.4444444444444444, \"#bd3786\"], [0.5555555555555556, \"#d8576b\"], [0.6666666666666666, \"#ed7953\"], [0.7777777777777778, \"#fb9f3a\"], [0.8888888888888888, \"#fdca26\"], [1.0, \"#f0f921\"]], \"type\": \"contour\"}], \"contourcarpet\": [{\"colorbar\": {\"outlinewidth\": 0, \"ticks\": \"\"}, \"type\": \"contourcarpet\"}], \"heatmap\": [{\"colorbar\": {\"outlinewidth\": 0, \"ticks\": \"\"}, \"colorscale\": [[0.0, \"#0d0887\"], [0.1111111111111111, \"#46039f\"], [0.2222222222222222, \"#7201a8\"], [0.3333333333333333, \"#9c179e\"], [0.4444444444444444, \"#bd3786\"], [0.5555555555555556, \"#d8576b\"], [0.6666666666666666, \"#ed7953\"], [0.7777777777777778, \"#fb9f3a\"], [0.8888888888888888, \"#fdca26\"], [1.0, \"#f0f921\"]], \"type\": \"heatmap\"}], \"heatmapgl\": [{\"colorbar\": {\"outlinewidth\": 0, \"ticks\": \"\"}, \"colorscale\": [[0.0, \"#0d0887\"], [0.1111111111111111, \"#46039f\"], [0.2222222222222222, \"#7201a8\"], [0.3333333333333333, \"#9c179e\"], [0.4444444444444444, \"#bd3786\"], [0.5555555555555556, \"#d8576b\"], [0.6666666666666666, \"#ed7953\"], [0.7777777777777778, \"#fb9f3a\"], [0.8888888888888888, \"#fdca26\"], [1.0, \"#f0f921\"]], \"type\": \"heatmapgl\"}], \"histogram\": [{\"marker\": {\"colorbar\": {\"outlinewidth\": 0, \"ticks\": \"\"}}, \"type\": \"histogram\"}], \"histogram2d\": [{\"colorbar\": {\"outlinewidth\": 0, \"ticks\": \"\"}, \"colorscale\": [[0.0, \"#0d0887\"], [0.1111111111111111, \"#46039f\"], [0.2222222222222222, \"#7201a8\"], [0.3333333333333333, \"#9c179e\"], [0.4444444444444444, \"#bd3786\"], [0.5555555555555556, \"#d8576b\"], [0.6666666666666666, \"#ed7953\"], [0.7777777777777778, \"#fb9f3a\"], [0.8888888888888888, \"#fdca26\"], [1.0, \"#f0f921\"]], \"type\": \"histogram2d\"}], \"histogram2dcontour\": [{\"colorbar\": {\"outlinewidth\": 0, \"ticks\": \"\"}, \"colorscale\": [[0.0, \"#0d0887\"], [0.1111111111111111, \"#46039f\"], [0.2222222222222222, \"#7201a8\"], [0.3333333333333333, \"#9c179e\"], [0.4444444444444444, \"#bd3786\"], [0.5555555555555556, \"#d8576b\"], [0.6666666666666666, \"#ed7953\"], [0.7777777777777778, \"#fb9f3a\"], [0.8888888888888888, \"#fdca26\"], [1.0, \"#f0f921\"]], \"type\": \"histogram2dcontour\"}], \"mesh3d\": [{\"colorbar\": {\"outlinewidth\": 0, \"ticks\": \"\"}, \"type\": \"mesh3d\"}], \"parcoords\": [{\"line\": {\"colorbar\": {\"outlinewidth\": 0, \"ticks\": \"\"}}, \"type\": \"parcoords\"}], \"pie\": [{\"automargin\": true, \"type\": \"pie\"}], \"scatter\": [{\"marker\": {\"colorbar\": {\"outlinewidth\": 0, \"ticks\": \"\"}}, \"type\": \"scatter\"}], \"scatter3d\": [{\"line\": {\"colorbar\": {\"outlinewidth\": 0, \"ticks\": \"\"}}, \"marker\": {\"colorbar\": {\"outlinewidth\": 0, \"ticks\": \"\"}}, \"type\": \"scatter3d\"}], \"scattercarpet\": [{\"marker\": {\"colorbar\": {\"outlinewidth\": 0, \"ticks\": \"\"}}, \"type\": \"scattercarpet\"}], \"scattergeo\": [{\"marker\": {\"colorbar\": {\"outlinewidth\": 0, \"ticks\": \"\"}}, \"type\": \"scattergeo\"}], \"scattergl\": [{\"marker\": {\"colorbar\": {\"outlinewidth\": 0, \"ticks\": \"\"}}, \"type\": \"scattergl\"}], \"scattermapbox\": [{\"marker\": {\"colorbar\": {\"outlinewidth\": 0, \"ticks\": \"\"}}, \"type\": \"scattermapbox\"}], \"scatterpolar\": [{\"marker\": {\"colorbar\": {\"outlinewidth\": 0, \"ticks\": \"\"}}, \"type\": \"scatterpolar\"}], \"scatterpolargl\": [{\"marker\": {\"colorbar\": {\"outlinewidth\": 0, \"ticks\": \"\"}}, \"type\": \"scatterpolargl\"}], \"scatterternary\": [{\"marker\": {\"colorbar\": {\"outlinewidth\": 0, \"ticks\": \"\"}}, \"type\": \"scatterternary\"}], \"surface\": [{\"colorbar\": {\"outlinewidth\": 0, \"ticks\": \"\"}, \"colorscale\": [[0.0, \"#0d0887\"], [0.1111111111111111, \"#46039f\"], [0.2222222222222222, \"#7201a8\"], [0.3333333333333333, \"#9c179e\"], [0.4444444444444444, \"#bd3786\"], [0.5555555555555556, \"#d8576b\"], [0.6666666666666666, \"#ed7953\"], [0.7777777777777778, \"#fb9f3a\"], [0.8888888888888888, \"#fdca26\"], [1.0, \"#f0f921\"]], \"type\": \"surface\"}], \"table\": [{\"cells\": {\"fill\": {\"color\": \"#EBF0F8\"}, \"line\": {\"color\": \"white\"}}, \"header\": {\"fill\": {\"color\": \"#C8D4E3\"}, \"line\": {\"color\": \"white\"}}, \"type\": \"table\"}]}, \"layout\": {\"annotationdefaults\": {\"arrowcolor\": \"#2a3f5f\", \"arrowhead\": 0, \"arrowwidth\": 1}, \"coloraxis\": {\"colorbar\": {\"outlinewidth\": 0, \"ticks\": \"\"}}, \"colorscale\": {\"diverging\": [[0, \"#8e0152\"], [0.1, \"#c51b7d\"], [0.2, \"#de77ae\"], [0.3, \"#f1b6da\"], [0.4, \"#fde0ef\"], [0.5, \"#f7f7f7\"], [0.6, \"#e6f5d0\"], [0.7, \"#b8e186\"], [0.8, \"#7fbc41\"], [0.9, \"#4d9221\"], [1, \"#276419\"]], \"sequential\": [[0.0, \"#0d0887\"], [0.1111111111111111, \"#46039f\"], [0.2222222222222222, \"#7201a8\"], [0.3333333333333333, \"#9c179e\"], [0.4444444444444444, \"#bd3786\"], [0.5555555555555556, \"#d8576b\"], [0.6666666666666666, \"#ed7953\"], [0.7777777777777778, \"#fb9f3a\"], [0.8888888888888888, \"#fdca26\"], [1.0, \"#f0f921\"]], \"sequentialminus\": [[0.0, \"#0d0887\"], [0.1111111111111111, \"#46039f\"], [0.2222222222222222, \"#7201a8\"], [0.3333333333333333, \"#9c179e\"], [0.4444444444444444, \"#bd3786\"], [0.5555555555555556, \"#d8576b\"], [0.6666666666666666, \"#ed7953\"], [0.7777777777777778, \"#fb9f3a\"], [0.8888888888888888, \"#fdca26\"], [1.0, \"#f0f921\"]]}, \"colorway\": [\"#636efa\", \"#EF553B\", \"#00cc96\", \"#ab63fa\", \"#FFA15A\", \"#19d3f3\", \"#FF6692\", \"#B6E880\", \"#FF97FF\", \"#FECB52\"], \"font\": {\"color\": \"#2a3f5f\"}, \"geo\": {\"bgcolor\": \"white\", \"lakecolor\": \"white\", \"landcolor\": \"#E5ECF6\", \"showlakes\": true, \"showland\": true, \"subunitcolor\": \"white\"}, \"hoverlabel\": {\"align\": \"left\"}, \"hovermode\": \"closest\", \"mapbox\": {\"style\": \"light\"}, \"paper_bgcolor\": \"white\", \"plot_bgcolor\": \"#E5ECF6\", \"polar\": {\"angularaxis\": {\"gridcolor\": \"white\", \"linecolor\": \"white\", \"ticks\": \"\"}, \"bgcolor\": \"#E5ECF6\", \"radialaxis\": {\"gridcolor\": \"white\", \"linecolor\": \"white\", \"ticks\": \"\"}}, \"scene\": {\"xaxis\": {\"backgroundcolor\": \"#E5ECF6\", \"gridcolor\": \"white\", \"gridwidth\": 2, \"linecolor\": \"white\", \"showbackground\": true, \"ticks\": \"\", \"zerolinecolor\": \"white\"}, \"yaxis\": {\"backgroundcolor\": \"#E5ECF6\", \"gridcolor\": \"white\", \"gridwidth\": 2, \"linecolor\": \"white\", \"showbackground\": true, \"ticks\": \"\", \"zerolinecolor\": \"white\"}, \"zaxis\": {\"backgroundcolor\": \"#E5ECF6\", \"gridcolor\": \"white\", \"gridwidth\": 2, \"linecolor\": \"white\", \"showbackground\": true, \"ticks\": \"\", \"zerolinecolor\": \"white\"}}, \"shapedefaults\": {\"line\": {\"color\": \"#2a3f5f\"}}, \"ternary\": {\"aaxis\": {\"gridcolor\": \"white\", \"linecolor\": \"white\", \"ticks\": \"\"}, \"baxis\": {\"gridcolor\": \"white\", \"linecolor\": \"white\", \"ticks\": \"\"}, \"bgcolor\": \"#E5ECF6\", \"caxis\": {\"gridcolor\": \"white\", \"linecolor\": \"white\", \"ticks\": \"\"}}, \"title\": {\"x\": 0.05}, \"xaxis\": {\"automargin\": true, \"gridcolor\": \"white\", \"linecolor\": \"white\", \"ticks\": \"\", \"title\": {\"standoff\": 15}, \"zerolinecolor\": \"white\", \"zerolinewidth\": 2}, \"yaxis\": {\"automargin\": true, \"gridcolor\": \"white\", \"linecolor\": \"white\", \"ticks\": \"\", \"title\": {\"standoff\": 15}, \"zerolinecolor\": \"white\", \"zerolinewidth\": 2}}}, \"title\": {\"text\": \"<i><b>Confusion matrix</b></i>\"}, \"xaxis\": {\"dtick\": 1, \"gridcolor\": \"rgb(0, 0, 0)\", \"side\": \"top\", \"ticks\": \"\", \"title\": {\"text\": \"Predicted genre\"}}, \"yaxis\": {\"dtick\": 1, \"ticks\": \"\", \"ticksuffix\": \"  \", \"title\": {\"text\": \"Real genre\"}}},\n",
              "                        {\"responsive\": true}\n",
              "                    ).then(function(){\n",
              "                            \n",
              "var gd = document.getElementById('3f72e6f4-8ec1-4702-9527-a7094b4e90f1');\n",
              "var x = new MutationObserver(function (mutations, observer) {{\n",
              "        var display = window.getComputedStyle(gd).display;\n",
              "        if (!display || display === 'none') {{\n",
              "            console.log([gd, 'removed!']);\n",
              "            Plotly.purge(gd);\n",
              "            observer.disconnect();\n",
              "        }}\n",
              "}});\n",
              "\n",
              "// Listen for the removal of the full notebook cells\n",
              "var notebookContainer = gd.closest('#notebook-container');\n",
              "if (notebookContainer) {{\n",
              "    x.observe(notebookContainer, {childList: true});\n",
              "}}\n",
              "\n",
              "// Listen for the clearing of the current output cell\n",
              "var outputEl = gd.closest('.output');\n",
              "if (outputEl) {{\n",
              "    x.observe(outputEl, {childList: true});\n",
              "}}\n",
              "\n",
              "                        })\n",
              "                };\n",
              "                \n",
              "            </script>\n",
              "        </div>\n",
              "</body>\n",
              "</html>"
            ]
          },
          "metadata": {
            "tags": []
          }
        }
      ]
    },
    {
      "cell_type": "markdown",
      "metadata": {
        "id": "SSndUd2LipLn"
      },
      "source": [
        "Show accuracies per genre and global"
      ]
    },
    {
      "cell_type": "code",
      "metadata": {
        "colab": {
          "base_uri": "https://localhost:8080/"
        },
        "id": "AUB72GBUfb7F",
        "outputId": "b27f483d-10dc-4920-8562-1019d1eeb2a5"
      },
      "source": [
        "print(f\"Global accuracy: {100 * correct / total :.2f}%\")\r\n",
        "print(\"\\nAccuracy by genre:\")\r\n",
        "for i, genre in genres.items():\r\n",
        "    print(f\"- {genre}: {100 * class_correct[i] / class_total[i] :.2f}%\")"
      ],
      "execution_count": 17,
      "outputs": [
        {
          "output_type": "stream",
          "text": [
            "Global accuracy: 94.50%\n",
            "\n",
            "Accuracy by genre:\n",
            "- classical: 94.44%\n",
            "- country: 88.89%\n",
            "- disco: 88.89%\n",
            "- hip-hop: 100.00%\n",
            "- jazz: 100.00%\n",
            "- rock: 93.33%\n",
            "- blues: 100.00%\n",
            "- reggae: 92.31%\n",
            "- pop: 89.47%\n",
            "- metal: 91.30%\n"
          ],
          "name": "stdout"
        }
      ]
    },
    {
      "cell_type": "code",
      "metadata": {
        "id": "-CP0qYSCkrbN"
      },
      "source": [
        ""
      ],
      "execution_count": 17,
      "outputs": []
    }
  ]
}